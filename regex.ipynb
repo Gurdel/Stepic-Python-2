{
 "metadata": {
  "language_info": {
   "codemirror_mode": {
    "name": "ipython",
    "version": 3
   },
   "file_extension": ".py",
   "mimetype": "text/x-python",
   "name": "python",
   "nbconvert_exporter": "python",
   "pygments_lexer": "ipython3",
   "version": "3.8.5-final"
  },
  "orig_nbformat": 2,
  "kernelspec": {
   "name": "python3",
   "display_name": "Python 3",
   "language": "python"
  }
 },
 "nbformat": 4,
 "nbformat_minor": 2,
 "cells": [
  {
   "cell_type": "code",
   "execution_count": null,
   "metadata": {},
   "outputs": [],
   "source": [
    "'''\n",
    "Вам дана последовательность строк.\n",
    "Выведите строки, содержащие \"cat\" в качестве подстроки хотя бы два раза.\n",
    "'''\n",
    "import sys\n",
    "import re\n",
    "res = []\n",
    "for line in sys.stdin:\n",
    "    line = line.rstrip()\n",
    "    buf = re.findall('cat', line)\n",
    "    if(len(buf) > 1):\n",
    "        res.append(line)\n",
    "print(*res, sep='\\n')"
   ]
  },
  {
   "cell_type": "code",
   "execution_count": null,
   "metadata": {},
   "outputs": [],
   "source": [
    "'''\n",
    "Вам дана последовательность строк.\n",
    "Выведите строки, содержащие \"cat\" в качестве слова.\n",
    "'''\n",
    "import sys\n",
    "import re\n",
    "res = []\n",
    "for line in sys.stdin:\n",
    "    line = line.rstrip()\n",
    "    if(re.search(r'\\bcat\\b', line)):\n",
    "        res.append(line)\n",
    "print(*res, sep='\\n')"
   ]
  },
  {
   "cell_type": "code",
   "execution_count": null,
   "metadata": {},
   "outputs": [],
   "source": [
    "'''\n",
    "Вам дана последовательность строк.\n",
    "Выведите строки, содержащие две буквы \"z\", между которыми ровно три символа.\n",
    "'''\n",
    "import sys\n",
    "import re\n",
    "res = []\n",
    "for line in sys.stdin:\n",
    "    line = line.rstrip()\n",
    "    if(re.search(r'z.{3}z', line)):\n",
    "        res.append(line)\n",
    "print(*res, sep='\\n')"
   ]
  },
  {
   "cell_type": "code",
   "execution_count": null,
   "metadata": {},
   "outputs": [],
   "source": [
    "'''\n",
    "Вам дана последовательность строк.\n",
    "Выведите строки, содержащие обратный слеш \"\\\".\n",
    "'''\n",
    "import sys\n",
    "import re\n",
    "res = []\n",
    "for line in sys.stdin:\n",
    "    line = line.rstrip()\n",
    "    if(re.search(r'\\\\', line)):\n",
    "        res.append(line)\n",
    "print(*res, sep='\\n')"
   ]
  },
  {
   "cell_type": "code",
   "execution_count": 1,
   "metadata": {},
   "outputs": [
    {
     "output_type": "stream",
     "name": "stdout",
     "text": [
      "\n"
     ]
    }
   ],
   "source": [
    "'''\n",
    "Вам дана последовательность строк.\n",
    "Выведите строки, содержащие слово, состоящее из двух одинаковых частей (тандемный повтор).\n",
    "'''\n",
    "import sys\n",
    "import re\n",
    "res = []\n",
    "for line in sys.stdin:\n",
    "    line = line.rstrip()\n",
    "    buf = re.findall(r'\\bcat\\b', line)\n",
    "    for w in buf:\n",
    "        l = len(w)\n",
    "        if(w[:l//2] == w[l//2:]):\n",
    "            res.append(line)\n",
    "            break\n",
    "print(*res, sep='\\n')"
   ]
  },
  {
   "cell_type": "code",
   "execution_count": 7,
   "metadata": {},
   "outputs": [
    {
     "output_type": "stream",
     "name": "stdout",
     "text": [
      "bb\n"
     ]
    }
   ],
   "source": [
    "'''\n",
    "Вам дана последовательность строк.\n",
    "В каждой строке замените все вхождения подстроки \"human\" на подстроку \"computer\" и выведите полученные строки\n",
    "''\n",
    "import sys\n",
    "import re\n",
    "res = []\n",
    "for line in sys.stdin:\n",
    "    line = line.rstrip()\n",
    "    res.append(re.sub('human', 'computer', line))\n",
    "print(*res, sep='\\n')"
   ]
  },
  {
   "cell_type": "code",
   "execution_count": 9,
   "metadata": {},
   "outputs": [
    {
     "output_type": "stream",
     "name": "stdout",
     "text": [
      "\n"
     ]
    }
   ],
   "source": [
    "'''\n",
    "Вам дана последовательность строк.\n",
    "В каждой строке замените первое вхождение слова, состоящего только из латинских букв \"a\" (регистр не важен), на слово \"argh\".\n",
    "\n",
    "Примечание:\n",
    "Обратите внимание на параметр count у функции sub.\n",
    "'''\n",
    "import sys\n",
    "import re\n",
    "res = []\n",
    "for line in sys.stdin:\n",
    "    line = line.rstrip()\n",
    "    res.append(re.sub(r'\\b[aA]+\\b', 'argh', line, count=1))\n",
    "print(*res, sep='\\n')"
   ]
  },
  {
   "cell_type": "code",
   "execution_count": null,
   "metadata": {},
   "outputs": [],
   "source": [
    "'''\n",
    "Вам дана последовательность строк.\n",
    "В каждой строке поменяйте местами две первых буквы в каждом слове, состоящем хотя бы из двух букв.\n",
    "Буквой считается символ из группы \\w.\n",
    "'''\n",
    "import sys\n",
    "import re\n",
    "res = []\n",
    "for line in sys.stdin:\n",
    "    line = line.rstrip()\n",
    "    res.append(re.sub(r'\\b(\\w)(\\w)(\\w*)\\b', r'\\2\\1\\3', line))\n",
    "print(*res, sep='\\n')"
   ]
  },
  {
   "cell_type": "code",
   "execution_count": null,
   "metadata": {},
   "outputs": [],
   "source": [
    "'''\n",
    "Вам дана последовательность строк.\n",
    "В каждой строке замените все вхождения нескольких одинаковых букв на одну букву.\n",
    "Буквой считается символ из группы \\w.\n",
    "'''\n",
    "import sys\n",
    "import re\n",
    "res = []\n",
    "for line in sys.stdin:\n",
    "    line = line.rstrip()\n",
    "    res.append(re.sub(r'(\\w)\\1+', r'\\1', line))\n",
    "print(*res, sep='\\n')"
   ]
  },
  {
   "cell_type": "code",
   "execution_count": 11,
   "metadata": {},
   "outputs": [
    {
     "output_type": "stream",
     "name": "stdout",
     "text": [
      "\n"
     ]
    }
   ],
   "source": [
    "'''\n",
    "Вам дана последовательность строк.\n",
    "Выведите строки, содержащие двоичную запись числа, кратного 3.\n",
    "\n",
    "Двоичной записью числа называется его запись в двоичной системе счисления.\n",
    "'''\n",
    "import sys\n",
    "import re\n",
    "res = []\n",
    "for line in sys.stdin:\n",
    "    line = line.rstrip()\n",
    "    line = '0101101010101'\n",
    "    if(not re.search(r'\\D', line) and len(re.findall(r'(1(01*0)*1|0)+', line))==1):\n",
    "        res.append(line)\n",
    "print(*res, sep='\\n')"
   ]
  },
  {
   "cell_type": "code",
   "execution_count": null,
   "metadata": {},
   "outputs": [],
   "source": [
    "for line in sys.stdin:\n",
    "    line = line.strip()\n",
    "    if re.search(r\"\\A[01]+\\Z\",line):\n",
    "         if re.fullmatch(r\"(1(01*0)*1|0)+\",line[::-1]):\n",
    "             print(line)"
   ]
  },
  {
   "cell_type": "code",
   "execution_count": null,
   "metadata": {},
   "outputs": [],
   "source": []
  }
 ]
}