{
 "metadata": {
  "language_info": {
   "codemirror_mode": {
    "name": "ipython",
    "version": 3
   },
   "file_extension": ".py",
   "mimetype": "text/x-python",
   "name": "python",
   "nbconvert_exporter": "python",
   "pygments_lexer": "ipython3",
   "version": "3.8.3-final"
  },
  "orig_nbformat": 2,
  "kernelspec": {
   "name": "python3",
   "display_name": "Python 3"
  }
 },
 "nbformat": 4,
 "nbformat_minor": 2,
 "cells": [
  {
   "cell_type": "code",
   "execution_count": 28,
   "metadata": {},
   "outputs": [],
   "source": [
    "classes = {}\n",
    "for _ in range(int(input())):\n",
    "    line = input()\n",
    "    if ':' in line:\n",
    "        buf = line.split()\n",
    "        classes[buf[0]] = buf[2:]\n",
    "    else:\n",
    "        classes[line] = ['obj']"
   ]
  },
  {
   "cell_type": "code",
   "execution_count": 29,
   "metadata": {},
   "outputs": [
    {
     "output_type": "execute_result",
     "data": {
      "text/plain": [
       "{'g': ['f'],\n",
       " 'a': ['obj'],\n",
       " 'b': ['a'],\n",
       " 'c': ['a'],\n",
       " 'd': ['b', 'c'],\n",
       " 'e': ['d'],\n",
       " 'f': ['d'],\n",
       " 'x': ['obj'],\n",
       " 'y': ['x', 'a'],\n",
       " 'z': ['x'],\n",
       " 'v': ['z', 'y'],\n",
       " 'w': ['v']}"
      ]
     },
     "metadata": {},
     "execution_count": 29
    }
   ],
   "source": [
    "classes"
   ]
  },
  {
   "cell_type": "code",
   "execution_count": 42,
   "metadata": {},
   "outputs": [],
   "source": [
    "def isparent(son, par):\n",
    "    if son not in classes.keys():\n",
    "        return False\n",
    "    if son == par:\n",
    "        return True\n",
    "    if son == 'obj':\n",
    "        return False\n",
    "    if par in classes[son]:\n",
    "        return True\n",
    "    for cl in classes[son]:\n",
    "        if isparent(cl, par):\n",
    "            return True\n",
    "    return False"
   ]
  }
 ]
}